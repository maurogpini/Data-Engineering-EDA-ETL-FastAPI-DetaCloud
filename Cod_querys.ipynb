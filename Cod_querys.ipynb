{
 "cells": [
  {
   "cell_type": "code",
   "execution_count": 1,
   "metadata": {},
   "outputs": [],
   "source": [
    "#Importo la linrería que voy a utilizar.\n",
    "import pandas as pd "
   ]
  },
  {
   "cell_type": "code",
   "execution_count": 2,
   "metadata": {},
   "outputs": [],
   "source": [
    "#Creo un dataframe con los datos transformados.\n",
    "df = pd.read_csv('data_pi.csv')"
   ]
  },
  {
   "cell_type": "code",
   "execution_count": 11,
   "metadata": {},
   "outputs": [],
   "source": [
    "# Aquí se enumeran las variables que tomarán el valor de los parámetros de filtro de las querys.\n",
    "\n",
    "keyword = 'love'\n",
    "platform = 'netflix'\n",
    "type = 'movie'\n",
    "score = 85\n",
    "year = 2016\n",
    "rating = '18+'\n",
    "duration_type = 'min'"
   ]
  },
  {
   "cell_type": "code",
   "execution_count": 12,
   "metadata": {},
   "outputs": [
    {
     "data": {
      "text/plain": [
       "196"
      ]
     },
     "execution_count": 12,
     "metadata": {},
     "output_type": "execute_result"
    }
   ],
   "source": [
    "# Query 1 --> Cantidad de veces que aparece una keyword en el título de peliculas/series, por plataforma\n",
    "\n",
    "df[(df['title'].str.contains(keyword)) & (df['plataforma'] == platform)].shape[0]"
   ]
  },
  {
   "cell_type": "code",
   "execution_count": 13,
   "metadata": {},
   "outputs": [
    {
     "data": {
      "text/plain": [
       "135"
      ]
     },
     "execution_count": 13,
     "metadata": {},
     "output_type": "execute_result"
    }
   ],
   "source": [
    "# Query 2 --> Cantidad de películas por plataforma con un puntaje mayor a XX en determinado año\n",
    "\n",
    "df[(df['plataforma'] == platform) & (df['score'] > score) & (df['release_year'] == year)].shape[0]"
   ]
  },
  {
   "cell_type": "code",
   "execution_count": 14,
   "metadata": {},
   "outputs": [
    {
     "data": {
      "text/plain": [
       "'a choo'"
      ]
     },
     "execution_count": 14,
     "metadata": {},
     "output_type": "execute_result"
    }
   ],
   "source": [
    "# Query 3 --> La segunda película con mayor score para una plataforma determinada, según el orden alfabético de los títulos.\n",
    "\n",
    "df[(df['plataforma'] == platform) & (df['type'] == 'movie' )].sort_values(by = ['score','title'] , ascending = [False , True]).iloc[1,3]"
   ]
  },
  {
   "cell_type": "code",
   "execution_count": 15,
   "metadata": {},
   "outputs": [
    {
     "data": {
      "text/plain": [
       "'sairat'"
      ]
     },
     "execution_count": 15,
     "metadata": {},
     "output_type": "execute_result"
    }
   ],
   "source": [
    "# Query 4 --> Película que más duró según año, plataforma y tipo de duración.\n",
    "\n",
    "df[(df['plataforma'] == platform) & (df['release_year'] == year) & (df['duration_type'] == duration_type)].sort_values(by = 'duration_int' , ascending = False).iloc[0,3]"
   ]
  },
  {
   "cell_type": "code",
   "execution_count": 16,
   "metadata": {},
   "outputs": [
    {
     "data": {
      "text/plain": [
       "1243"
      ]
     },
     "execution_count": 16,
     "metadata": {},
     "output_type": "execute_result"
    }
   ],
   "source": [
    "# Query 5 --> Cantidad de series y películas por rating \n",
    "\n",
    "df[df['rating'] == rating].shape[0]"
   ]
  }
 ],
 "metadata": {
  "kernelspec": {
   "display_name": "Python 3",
   "language": "python",
   "name": "python3"
  },
  "language_info": {
   "codemirror_mode": {
    "name": "ipython",
    "version": 3
   },
   "file_extension": ".py",
   "mimetype": "text/x-python",
   "name": "python",
   "nbconvert_exporter": "python",
   "pygments_lexer": "ipython3",
   "version": "3.11.1"
  },
  "orig_nbformat": 4,
  "vscode": {
   "interpreter": {
    "hash": "147c7b54acad9169917f86b29ae09e91b96d4bf10eb9211ab64b1f441523e498"
   }
  }
 },
 "nbformat": 4,
 "nbformat_minor": 2
}
