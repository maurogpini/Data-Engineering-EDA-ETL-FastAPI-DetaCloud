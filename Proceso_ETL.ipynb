{
 "cells": [
  {
   "attachments": {},
   "cell_type": "markdown",
   "metadata": {},
   "source": [
    "INGESTA Y LIMPIEZA DEL DATASET\n",
    "\n",
    "Transformaciones: El analista de datos requiere estas, y solo estas, transformaciones para sus datos:\n",
    "\n",
    "Generar campo id: Cada id se compondrá de la primera letra del nombre de la plataforma, seguido del show_id ya presente en los datasets (ejemplo para títulos de Amazon = as123)\n",
    "\n",
    "Los valores nulos del campo rating deberán reemplazarse por el string “G” (corresponde al maturity rating: “general for all audiences”\n",
    "\n",
    "De haber fechas, deberán tener el formato AAAA-mm-dd\n",
    "\n",
    "Los campos de texto deberán estar en minúsculas, sin excepciones\n",
    "\n",
    "El campo duration debe convertirse en dos campos: duration_int y duration_type. El primero será un integer y el segundo un string indicando la unidad de medición de duración: min (minutos) o season (temporadas)"
   ]
  },
  {
   "cell_type": "code",
   "execution_count": 30,
   "metadata": {},
   "outputs": [],
   "source": [
    "import pandas as pd"
   ]
  },
  {
   "cell_type": "code",
   "execution_count": 31,
   "metadata": {},
   "outputs": [],
   "source": [
    "# IMPORTO LOS DATASETS CON LOS CUALES VOY A TRABAJAR Y LOS GUARDO A CADA UNO EN SU PROPIO DATAFRAME DE PANDAS.\n",
    "df_a = pd.read_csv('./Datasets/amazon_prime_titles-score.csv')\n",
    "df_d = pd.read_csv('./Datasets/disney_plus_titles-score.csv')\n",
    "df_h = pd.read_csv('./Datasets/hulu_titles-score (2).csv')\n",
    "df_n = pd.read_csv('./Datasets/netflix_titles-score.csv')"
   ]
  },
  {
   "cell_type": "code",
   "execution_count": 32,
   "metadata": {},
   "outputs": [],
   "source": [
    "#GENERACION DE LOS CAMPOS ID PARA CADA DATAFRAME\n",
    "\n",
    "df_a.insert(0, 'id', df_a['show_id'], allow_duplicates=False)\n",
    "df_a['id'] = 'a' + df_a['show_id']\n",
    "\n",
    "df_d.insert(0, 'id', df_d['show_id'], allow_duplicates=False)\n",
    "df_d['id'] = 'd' + df_d['show_id']\n",
    "\n",
    "df_h.insert(0, 'id', df_h['show_id'], allow_duplicates=False)\n",
    "df_h['id'] = 'h' + df_h['show_id']\n",
    "\n",
    "df_n.insert(0, 'id', df_n['show_id'], allow_duplicates=False)\n",
    "df_n['id'] = 'n' + df_n['show_id']"
   ]
  },
  {
   "cell_type": "code",
   "execution_count": 33,
   "metadata": {},
   "outputs": [],
   "source": [
    "#GENERO UNA COLUMNA CON EL NOMBRE DE CADA PLATAFORMA\n",
    "df_a['plataforma'] = 'Amazon'\n",
    "df_d['plataforma'] = 'Disney'\n",
    "df_h['plataforma'] = 'Hulu'\n",
    "df_n['plataforma'] = 'Netflix'"
   ]
  },
  {
   "cell_type": "code",
   "execution_count": 34,
   "metadata": {},
   "outputs": [],
   "source": [
    "#GENERO UN DATAFRAME UNIFICADO CON LOS CUATRO DATAFRAMES\n",
    "\n",
    "df = pd.concat([df_a, df_d, df_h, df_n],ignore_index=True)"
   ]
  },
  {
   "cell_type": "code",
   "execution_count": 35,
   "metadata": {},
   "outputs": [],
   "source": [
    "#REEMPLAZO DE VALORES SOBRE EL CAMPO RATING\n",
    "df['rating'] = df['rating'].fillna('G')"
   ]
  },
  {
   "cell_type": "code",
   "execution_count": 36,
   "metadata": {},
   "outputs": [],
   "source": [
    "#CAMBIO DE FORMATO DE FECHAS\n",
    "df['date_added'] = pd.to_datetime(df['date_added'])\n"
   ]
  },
  {
   "cell_type": "code",
   "execution_count": 37,
   "metadata": {},
   "outputs": [],
   "source": [
    "#CAMBIO DE FORMATO DE CAMPOS DE TEXTO\n",
    "for col in list(df.columns):\n",
    "  try:\n",
    "    df[col] = df[col].str.lower()\n",
    "  except (TypeError,AttributeError):\n",
    "    pass"
   ]
  },
  {
   "cell_type": "code",
   "execution_count": 38,
   "metadata": {},
   "outputs": [],
   "source": [
    "#OPERACIONES SOBRE EL CAMPO DURATION\n",
    "a = df['duration'].str.split(expand=True) #Creo un Dataframe secundario con el contenido de la columna duration separado en dos columnas.\n",
    "a.rename(columns={0:'duration_int', 1:'duration_type'}, inplace=True)   #Este paso en este momento es redundante, pero para mejorar el entendimiento del \n",
    "                                                                        #código cambio los nombres de las columnas ahora."
   ]
  },
  {
   "cell_type": "code",
   "execution_count": 39,
   "metadata": {},
   "outputs": [
    {
     "name": "stdout",
     "output_type": "stream",
     "text": [
      "<class 'pandas.core.series.Series'>\n",
      "RangeIndex: 22998 entries, 0 to 22997\n",
      "Series name: duration_int\n",
      "Non-Null Count  Dtype \n",
      "--------------  ----- \n",
      "22516 non-null  object\n",
      "dtypes: object(1)\n",
      "memory usage: 179.8+ KB\n"
     ]
    }
   ],
   "source": [
    "#Veo que el campo 'duration_int' presenta valores nulos.\n",
    "a['duration_int'].info()  "
   ]
  },
  {
   "cell_type": "code",
   "execution_count": 40,
   "metadata": {},
   "outputs": [],
   "source": [
    "#Reemplazo los valore nulos de el campo 'duration_int' por el valor '0' (teniendo en cuenta que la columna contiene datos del tipo string).\n",
    "\n",
    "a['duration_int'].fillna('0', inplace = True)"
   ]
  },
  {
   "cell_type": "code",
   "execution_count": 41,
   "metadata": {},
   "outputs": [],
   "source": [
    "#Cambio el Type de la variable 'duration_int' a integer.\n",
    "a['duration_int'] = a['duration_int'].astype(int)"
   ]
  },
  {
   "cell_type": "code",
   "execution_count": 42,
   "metadata": {},
   "outputs": [
    {
     "data": {
      "text/plain": [
       "array(['min', 'season', 'seasons', nan], dtype=object)"
      ]
     },
     "execution_count": 42,
     "metadata": {},
     "output_type": "execute_result"
    }
   ],
   "source": [
    "#Veo que en el campo 'duration_type' tengo 4 tipos de valores.\n",
    "a['duration_type'].unique()"
   ]
  },
  {
   "cell_type": "code",
   "execution_count": 43,
   "metadata": {},
   "outputs": [
    {
     "name": "stderr",
     "output_type": "stream",
     "text": [
      "C:\\Users\\VAIO\\AppData\\Local\\Temp\\ipykernel_9464\\4087776168.py:2: SettingWithCopyWarning: \n",
      "A value is trying to be set on a copy of a slice from a DataFrame\n",
      "\n",
      "See the caveats in the documentation: https://pandas.pydata.org/pandas-docs/stable/user_guide/indexing.html#returning-a-view-versus-a-copy\n",
      "  a['duration_type'].loc[a['duration_type']=='seasons']='season'\n"
     ]
    }
   ],
   "source": [
    "#Unifico los campos 'seasons' y 'season' bajo el valor 'season'.\n",
    "a['duration_type'].loc[a['duration_type']=='seasons']='season'"
   ]
  },
  {
   "cell_type": "code",
   "execution_count": 44,
   "metadata": {},
   "outputs": [
    {
     "data": {
      "text/plain": [
       "array(['movie', 'tv show'], dtype=object)"
      ]
     },
     "execution_count": 44,
     "metadata": {},
     "output_type": "execute_result"
    }
   ],
   "source": [
    "#En el DF pricipal, veo que las columnas pueden ser del tipo 'movie' (que tiene 'duration_type' en min) o tipo 'tv show' (que tiene 'duration_type' con valores season/seasons).\n",
    "df['type'].unique()"
   ]
  },
  {
   "cell_type": "code",
   "execution_count": 45,
   "metadata": {},
   "outputs": [],
   "source": [
    "#Creo las columnas en el Dataframe con los valores de el Dataframe secundario.\n",
    "df['duration_int'] = a['duration_int']\n",
    "df['duration_type'] = a['duration_type']"
   ]
  },
  {
   "cell_type": "code",
   "execution_count": 46,
   "metadata": {},
   "outputs": [
    {
     "data": {
      "text/html": [
       "<div>\n",
       "<style scoped>\n",
       "    .dataframe tbody tr th:only-of-type {\n",
       "        vertical-align: middle;\n",
       "    }\n",
       "\n",
       "    .dataframe tbody tr th {\n",
       "        vertical-align: top;\n",
       "    }\n",
       "\n",
       "    .dataframe thead th {\n",
       "        text-align: right;\n",
       "    }\n",
       "</style>\n",
       "<table border=\"1\" class=\"dataframe\">\n",
       "  <thead>\n",
       "    <tr style=\"text-align: right;\">\n",
       "      <th></th>\n",
       "      <th>id</th>\n",
       "      <th>show_id</th>\n",
       "      <th>type</th>\n",
       "      <th>title</th>\n",
       "      <th>director</th>\n",
       "      <th>cast</th>\n",
       "      <th>country</th>\n",
       "      <th>date_added</th>\n",
       "      <th>release_year</th>\n",
       "      <th>rating</th>\n",
       "      <th>duration</th>\n",
       "      <th>listed_in</th>\n",
       "      <th>description</th>\n",
       "      <th>score</th>\n",
       "      <th>plataforma</th>\n",
       "      <th>duration_int</th>\n",
       "      <th>duration_type</th>\n",
       "    </tr>\n",
       "  </thead>\n",
       "  <tbody>\n",
       "    <tr>\n",
       "      <th>0</th>\n",
       "      <td>as1</td>\n",
       "      <td>s1</td>\n",
       "      <td>movie</td>\n",
       "      <td>the grand seduction</td>\n",
       "      <td>don mckellar</td>\n",
       "      <td>brendan gleeson, taylor kitsch, gordon pinsent</td>\n",
       "      <td>canada</td>\n",
       "      <td>2021-03-30</td>\n",
       "      <td>2014</td>\n",
       "      <td>g</td>\n",
       "      <td>113 min</td>\n",
       "      <td>comedy, drama</td>\n",
       "      <td>a small fishing village must procure a local d...</td>\n",
       "      <td>99</td>\n",
       "      <td>amazon</td>\n",
       "      <td>113</td>\n",
       "      <td>min</td>\n",
       "    </tr>\n",
       "    <tr>\n",
       "      <th>1</th>\n",
       "      <td>as2</td>\n",
       "      <td>s2</td>\n",
       "      <td>movie</td>\n",
       "      <td>take care good night</td>\n",
       "      <td>girish joshi</td>\n",
       "      <td>mahesh manjrekar, abhay mahajan, sachin khedekar</td>\n",
       "      <td>india</td>\n",
       "      <td>2021-03-30</td>\n",
       "      <td>2018</td>\n",
       "      <td>13+</td>\n",
       "      <td>110 min</td>\n",
       "      <td>drama, international</td>\n",
       "      <td>a metro family decides to fight a cyber crimin...</td>\n",
       "      <td>37</td>\n",
       "      <td>amazon</td>\n",
       "      <td>110</td>\n",
       "      <td>min</td>\n",
       "    </tr>\n",
       "  </tbody>\n",
       "</table>\n",
       "</div>"
      ],
      "text/plain": [
       "    id show_id   type                 title      director  \\\n",
       "0  as1      s1  movie   the grand seduction  don mckellar   \n",
       "1  as2      s2  movie  take care good night  girish joshi   \n",
       "\n",
       "                                               cast country date_added  \\\n",
       "0    brendan gleeson, taylor kitsch, gordon pinsent  canada 2021-03-30   \n",
       "1  mahesh manjrekar, abhay mahajan, sachin khedekar   india 2021-03-30   \n",
       "\n",
       "   release_year rating duration             listed_in  \\\n",
       "0          2014      g  113 min         comedy, drama   \n",
       "1          2018    13+  110 min  drama, international   \n",
       "\n",
       "                                         description  score plataforma  \\\n",
       "0  a small fishing village must procure a local d...     99     amazon   \n",
       "1  a metro family decides to fight a cyber crimin...     37     amazon   \n",
       "\n",
       "   duration_int duration_type  \n",
       "0           113           min  \n",
       "1           110           min  "
      ]
     },
     "execution_count": 46,
     "metadata": {},
     "output_type": "execute_result"
    }
   ],
   "source": [
    "df.head(2)"
   ]
  },
  {
   "cell_type": "code",
   "execution_count": 47,
   "metadata": {},
   "outputs": [],
   "source": [
    "#GUARDO EL DATAFRAME EN UN ARCHIVO CSV\n",
    "df.to_csv('data_pi.csv',index = False)"
   ]
  }
 ],
 "metadata": {
  "kernelspec": {
   "display_name": "entorno-PI1",
   "language": "python",
   "name": "python3"
  },
  "language_info": {
   "codemirror_mode": {
    "name": "ipython",
    "version": 3
   },
   "file_extension": ".py",
   "mimetype": "text/x-python",
   "name": "python",
   "nbconvert_exporter": "python",
   "pygments_lexer": "ipython3",
   "version": "3.11.1 (tags/v3.11.1:a7a450f, Dec  6 2022, 19:58:39) [MSC v.1934 64 bit (AMD64)]"
  },
  "orig_nbformat": 4,
  "vscode": {
   "interpreter": {
    "hash": "bf13f6a5d14992e886caa264301bc21c03896269df29a1f45da879f043e56721"
   }
  }
 },
 "nbformat": 4,
 "nbformat_minor": 2
}
